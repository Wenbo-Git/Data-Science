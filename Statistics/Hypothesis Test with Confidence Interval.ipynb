{
 "cells": [
  {
   "cell_type": "markdown",
   "metadata": {},
   "source": [
    "Question:\n",
    "\n",
    "How many of the world's 1 year old children today have been vaccinated against some disease:\n",
    "\n",
    "a. 20%\n",
    "\n",
    "b. 50%\n",
    "\n",
    "c. 80%\n",
    "\n",
    "A sample of 228 college-educated adults, 34 answered this question correctly. \n",
    "\n",
    "Let us perform a hypothesis testing with confidence interval.\n",
    "\n",
    "Let $\\hat{p} = \\frac{34}{228} = 0.149$ denote the sample proportion. \n",
    "\n",
    "Since the sample is random, the observations are independent (Independence)\n",
    "\n",
    "Success-failure condition:\n",
    "\n",
    "$n * \\hat{p} = 228 * 0.149 = 33.972 \\geq 10$\n",
    "\n",
    "$n * (1 - \\hat{p}) = 228 * (1 - 0.149) = 194.028 \\geq 10$\n",
    "\n",
    "$\\hat{p} \\sim N(\\mu_\\hat{p} = p, SE_\\hat{p} = \\sqrt{\\frac{p * (1 - p)}{n}})$ \n",
    "\n",
    "where $p$ is the proportion in the population(Central Limit Theorem)\n",
    "\n",
    "Hypothesis:\n",
    "\n",
    "$H_{0}$: People guessed. $p_{0} = 0.333$\n",
    "\n",
    "$H_{a}$: People knew something. $p_{0} \\neq 0.333$\n",
    "\n",
    "$SE_\\hat{p} = \\sqrt{\\frac{p * (1 - p)}{n}} \\approx \\sqrt{\\frac{\\hat{p} * (1 - \\hat{p})}{n}} = \\sqrt{\\frac{0.149 * (1 - 0.149)}{228}} = 0.024$\n",
    "\n",
    "95% confidence interval:\n",
    "\n",
    "$\\hat{p} \\pm z^{*} * SE_\\hat{p}$\n",
    "\n",
    "$= 0.149 \\pm 1.96 * 0.024$\n",
    "\n",
    "$\\rightarrow (0.103, 0.195)$\n",
    "\n",
    "Since $p_{0} = 0.333 \\notin (0.103, 0.195)$,\n",
    "\n",
    "$H_{0}$ is rejected, and the data provide statistically significant evidence that the actual proportion of college adults who get the question correct is different from random guessing."
   ]
  }
 ],
 "metadata": {
  "kernelspec": {
   "display_name": "Python 3",
   "language": "python",
   "name": "python3"
  },
  "language_info": {
   "codemirror_mode": {
    "name": "ipython",
    "version": 3
   },
   "file_extension": ".py",
   "mimetype": "text/x-python",
   "name": "python",
   "nbconvert_exporter": "python",
   "pygments_lexer": "ipython3",
   "version": "3.8.3"
  }
 },
 "nbformat": 4,
 "nbformat_minor": 4
}
