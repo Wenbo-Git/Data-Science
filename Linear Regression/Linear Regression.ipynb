{
 "cells": [
  {
   "cell_type": "markdown",
   "metadata": {},
   "source": [
    "Normal Equation\n",
    "$$X = \\begin{bmatrix}\n",
    "    x_{11} & x_{12} & \\dots  & x_{1m} \\\\\n",
    "    x_{21} & x_{22} & \\dots  & x_{2m} \\\\\n",
    "    \\vdots & \\vdots & \\ddots & \\vdots \\\\\n",
    "    x_{n1} & x_{n2} & \\dots  & x_{nm}\n",
    "    \\end{bmatrix},\n",
    "w = \\begin{bmatrix}\n",
    "    w_{1} \\\\\n",
    "    w_{2} \\\\\n",
    "    \\vdots \\\\\n",
    "    w_{m}\n",
    "    \\end{bmatrix}$$\n",
    "    \n",
    "$$\\hat{Y} = X * w$$\n",
    "\n",
    "$$MSE = \\frac{1}{n} * \\|\\hat{Y} - Y\\|^2_{2}$$\n",
    "\n",
    "$$\\nabla_{w}MSE = \\nabla_{w} \\frac{1}{n} * \\|\\hat{Y} - Y\\|^2_{2}$$\n",
    "\n",
    "$$=\\frac{1}{n} * \\nabla_{w} \\|\\hat{Y} - Y\\|^2_{2}$$\n",
    "\n",
    "$$=\\frac{1}{n} * \\nabla_{w} \\|X * w - Y\\|^2_{2}$$\n",
    "\n",
    "$$=\\frac{1}{n} * \\nabla_{w} (X * w - Y)^{T} * (X * w - Y)$$\n",
    "\n",
    "$$=\\frac{1}{n} * \\nabla_{w} (w^{T} * X^{T} - Y^{T}) * (X * w - Y)$$\n",
    "\n",
    "$$=\\frac{1}{n} * \\nabla_{w} (w^{T}X^{T}Xw - w^{T}X^{T}Y - Y^{T}Xw + Y^{T}Y)$$\n",
    "\n",
    "$$=\\frac{1}{n} * \\nabla_{w} (w^{T}X^{T}Xw - w^{T}X^{T}Y - w^{T}X^{T}Y + Y^{T}Y)$$\n",
    "\n",
    "$$=\\frac{1}{n} * \\nabla_{w} (w^{T}X^{T}Xw - 2w^{T}X^{T}Y + Y^{T}Y)$$\n",
    "\n",
    "$$=\\frac{1}{n} * (2X^{T}Xw - 2X^{T}Y)= 0$$\n",
    "\n",
    "$$X^{T}Xw = X^{T}Y$$\n",
    "\n",
    "$$w = (X^{T}X)^{-1}X^{T}Y$$"
   ]
  },
  {
   "cell_type": "markdown",
   "metadata": {},
   "source": [
    "Regularization\n",
    "$$L(X, Y, w) = \\frac{1}{2} * \\|X * w - Y\\|^2_{2} + \\frac{\\alpha}{2} * \\|w\\|^2_{2}$$\n",
    "\n",
    "$$= \\frac{1}{2} * \\|X * w - Y\\|^2_{2} + \\frac{\\alpha}{2} * w^{T}w$$\n",
    "\n",
    "$$\\nabla_{w}L(X, Y, w) = \\nabla_{w}(\\frac{1}{2} * \\|X * w - Y\\|^2_{2} + \\frac{\\alpha}{2} * w^{T}w)$$\n",
    "\n",
    "$$=X^{T}Xw - X^{T}Y + \\alpha * w = 0$$\n",
    "\n",
    "$$X^{T}Xw + \\alpha * I * w = X^{T}Y$$\n",
    "\n",
    "$$(X^{T}X + \\alpha I) * w = X^{T}Y$$\n",
    "\n",
    "$$w = (X^{T}X + \\alpha I)^{-1}X^{T}Y$$"
   ]
  },
  {
   "cell_type": "markdown",
   "metadata": {},
   "source": [
    "Gradient Descent\n",
    "$$while\\,L(X, Y, w) = \\frac{1}{n} * \\|X * w - Y\\|^2_{2} >= \\delta$$\n",
    "$$w = w - \\epsilon * \\nabla_{w}L(X, Y, w) = w - \\epsilon * \\frac{1}{n} * (2X^{T}Xw - 2X^{T}Y)$$"
   ]
  }
 ],
 "metadata": {
  "kernelspec": {
   "display_name": "Python 3",
   "language": "python",
   "name": "python3"
  },
  "language_info": {
   "codemirror_mode": {
    "name": "ipython",
    "version": 3
   },
   "file_extension": ".py",
   "mimetype": "text/x-python",
   "name": "python",
   "nbconvert_exporter": "python",
   "pygments_lexer": "ipython3",
   "version": "3.8.3"
  }
 },
 "nbformat": 4,
 "nbformat_minor": 2
}
