{
 "cells": [
  {
   "cell_type": "markdown",
   "metadata": {},
   "source": [
    "Black-Scholes Equation:\n",
    "\n",
    "$\\frac{1}{2} \\sigma^{2} S^{2} \\frac{\\partial^{2} V}{\\partial S^{2}}+rS\\frac{\\partial V}{\\partial S}+\\frac{\\partial V}{\\partial t}=rV \\quad\\text{(1)}$"
   ]
  },
  {
   "cell_type": "markdown",
   "metadata": {},
   "source": [
    "If $t=T-\\frac{\\tau}{\\frac{1}{2}\\sigma^{2}}$, then $\\tau=\\frac{\\sigma^{2}}{2}(T-t)$"
   ]
  },
  {
   "cell_type": "markdown",
   "metadata": {},
   "source": [
    "If $S=Ke^{x}$, then $x=ln\\left(\\frac{S}{K}\\right)$ "
   ]
  },
  {
   "cell_type": "markdown",
   "metadata": {},
   "source": [
    "$V(S,t)=Kv(x,\\tau) \\quad\\text{(2)}$"
   ]
  },
  {
   "cell_type": "markdown",
   "metadata": {},
   "source": [
    "$\\frac{\\partial V}{\\partial t}=K\\frac{\\partial v}{\\partial \\tau}\\frac{d\\tau}{dt}=K\\frac{\\partial v}{\\partial \\tau}\\frac{-\\sigma^{2}}{2} \\quad\\text{(3)}$"
   ]
  },
  {
   "cell_type": "markdown",
   "metadata": {},
   "source": [
    "$\\frac{\\partial V}{\\partial S}=K\\frac{\\partial v}{\\partial x}\\frac{dx}{dS}=K\\frac{\\partial v}{\\partial x}\\frac{1}{S} \\quad\\text{(4)}$"
   ]
  },
  {
   "cell_type": "markdown",
   "metadata": {},
   "source": [
    "$\\frac{\\partial^{2} V}{\\partial S^{2}}=\\frac{\\partial}{\\partial S}\\left(\\frac{\\partial V}{\\partial S}\\right)$"
   ]
  },
  {
   "cell_type": "markdown",
   "metadata": {},
   "source": [
    "$=\\frac{\\partial}{\\partial S}\\left(K\\frac{\\partial v}{\\partial x}\\frac{1}{S}\\right)$"
   ]
  },
  {
   "cell_type": "markdown",
   "metadata": {},
   "source": [
    "$=K\\frac{\\partial}{\\partial S}\\left(\\frac{\\partial v}{\\partial x}\\right)\\frac{1}{S}+K\\frac{\\partial v}{\\partial x}\\frac{d}{dS}\\left(\\frac{1}{S}\\right)$"
   ]
  },
  {
   "cell_type": "markdown",
   "metadata": {},
   "source": [
    "$=K\\frac{\\partial}{\\partial x}\\left(\\frac{\\partial v}{\\partial x}\\right)\\frac{dx}{dS}\\frac{1}{S}+K\\frac{\\partial v}{\\partial x}\\frac{-1}{S^{2}}$"
   ]
  },
  {
   "cell_type": "markdown",
   "metadata": {},
   "source": [
    "$=K\\frac{\\partial^{2} v}{\\partial x^{2}}\\frac{1}{S^{2}}+K\\frac{\\partial v}{\\partial x}\\frac{-1}{S^{2}} \\quad\\text{(5)}$"
   ]
  },
  {
   "cell_type": "markdown",
   "metadata": {},
   "source": [
    "substitute equations 2,3,4 and 5 into equation 1"
   ]
  },
  {
   "cell_type": "markdown",
   "metadata": {},
   "source": [
    "$\\frac{1}{2} \\sigma^{2} S^{2}\\left(K\\frac{\\partial^{2} v}{\\partial x^{2}}\\frac{1}{S^{2}}+K\\frac{\\partial v}{\\partial x}\\frac{-1}{S^{2}}\\right)+rS\\left(K\\frac{\\partial v}{\\partial x}\\frac{1}{S}\\right)+K\\frac{\\partial v}{\\partial \\tau}\\frac{-\\sigma^{2}}{2}=rKv$"
   ]
  },
  {
   "cell_type": "markdown",
   "metadata": {},
   "source": [
    "$\\frac{\\sigma^{2}}{2}\\left(\\frac{\\partial^{2} v}{\\partial x^{2}}-\\frac{\\partial v}{\\partial x}\\right)+r\\frac{\\partial v}{\\partial x}-\\frac{\\partial v}{\\partial \\tau}\\frac{\\sigma^{2}}{2}=rv$"
   ]
  },
  {
   "cell_type": "markdown",
   "metadata": {},
   "source": [
    "let $k=\\frac{r}{\\frac{\\sigma^{2}}{2}}$, $\\frac{\\sigma^{2}}{2}=\\frac{r}{k}$, then"
   ]
  },
  {
   "cell_type": "markdown",
   "metadata": {},
   "source": [
    "$\\frac{r}{k}\\left(\\frac{\\partial^{2} v}{\\partial x^{2}}-\\frac{\\partial v}{\\partial x}\\right)+r\\frac{\\partial v}{\\partial x}-\\frac{\\partial v}{\\partial \\tau}\\frac{r}{k}=rv$"
   ]
  },
  {
   "cell_type": "markdown",
   "metadata": {},
   "source": [
    "$\\frac{1}{k}\\left(\\frac{\\partial^{2} v}{\\partial x^{2}}-\\frac{\\partial v}{\\partial x}\\right)+\\frac{\\partial v}{\\partial x}-\\frac{\\partial v}{\\partial \\tau}\\frac{1}{k}=v$"
   ]
  },
  {
   "cell_type": "markdown",
   "metadata": {},
   "source": [
    "$\\frac{\\partial^{2} v}{\\partial x^{2}}-\\frac{\\partial v}{\\partial x}+k\\frac{\\partial v}{\\partial x}-\\frac{\\partial v}{\\partial \\tau}=kv$"
   ]
  },
  {
   "cell_type": "markdown",
   "metadata": {},
   "source": [
    "$\\frac{\\partial v}{\\partial \\tau}=\\frac{\\partial^{2} v}{\\partial x^{2}}+(k-1)\\frac{\\partial v}{\\partial x}-kv \\quad\\text{(6)}$"
   ]
  },
  {
   "cell_type": "markdown",
   "metadata": {},
   "source": [
    "let $v=e^{\\alpha x+\\beta \\tau}u(x,\\tau) \\quad\\text{(7)}$"
   ]
  },
  {
   "cell_type": "markdown",
   "metadata": {},
   "source": [
    "$v_{\\tau}=\\beta e^{\\alpha x+\\beta \\tau}u+e^{\\alpha x+\\beta \\tau}u_{\\tau} \\quad\\text{(8)}$"
   ]
  },
  {
   "cell_type": "markdown",
   "metadata": {},
   "source": [
    "$v_{x}=\\alpha e^{\\alpha x+\\beta \\tau}u+e^{\\alpha x+\\beta \\tau}u_{x} \\quad\\text{(9)}$"
   ]
  },
  {
   "cell_type": "markdown",
   "metadata": {},
   "source": [
    "$v_{xx}=\\alpha^{2} e^{\\alpha x+\\beta \\tau}u+2\\alpha e^{\\alpha x+\\beta \\tau}u_{x}+e^{\\alpha x+\\beta \\tau}u_{xx} \\quad\\text{(10)}$"
   ]
  },
  {
   "cell_type": "markdown",
   "metadata": {},
   "source": [
    "substitute equations 7,8,9 and 10 into equation 6, then"
   ]
  },
  {
   "cell_type": "markdown",
   "metadata": {},
   "source": [
    "$\\beta e^{\\alpha x+\\beta \\tau}u+e^{\\alpha x+\\beta \\tau}u_{\\tau}=\\alpha^{2} e^{\\alpha x+\\beta \\tau}u+2\\alpha e^{\\alpha x+\\beta \\tau}u_{x}+e^{\\alpha x+\\beta \\tau}u_{xx}+(k-1)(\\alpha e^{\\alpha x+\\beta \\tau}u+e^{\\alpha x+\\beta \\tau}u_{x})-ke^{\\alpha x+\\beta \\tau}u$"
   ]
  },
  {
   "cell_type": "markdown",
   "metadata": {},
   "source": [
    "$\\beta u+u_{\\tau}=\\alpha^{2}u+2\\alpha u_{x}+u_{xx}+(k-1)(\\alpha u+u_{x})-ku$"
   ]
  },
  {
   "cell_type": "markdown",
   "metadata": {},
   "source": [
    "$u_{\\tau}=u_{xx}+\\{2\\alpha+(k-1)\\}u_{x}+\\{\\alpha^{2}+(k-1)\\alpha-k-\\beta\\}u \\quad\\text{(11)}$"
   ]
  },
  {
   "cell_type": "markdown",
   "metadata": {},
   "source": [
    "let $\\alpha=-\\frac{k-1}{2}$, and $\\beta = \\alpha^{2}+(k-1)\\alpha -k$, then"
   ]
  },
  {
   "cell_type": "markdown",
   "metadata": {},
   "source": [
    "$u_{\\tau}=u_{xx} \\quad\\text{(12)}$"
   ]
  },
  {
   "cell_type": "markdown",
   "metadata": {},
   "source": [
    "recall the payout function at termination time T\n",
    "\n",
    "$V(S,T)=max(0, S-K)=max(0, Ke^{x}-K)$\n",
    "\n",
    "from equation 2, there is\n",
    "\n",
    "$V(S,t=T)=Kv(x,\\tau)=Kv(x,0)$"
   ]
  },
  {
   "cell_type": "markdown",
   "metadata": {},
   "source": [
    "$Kv(x,0)=max(0, Ke^{x}-K)=K*max(0,e^{x}-1)$"
   ]
  },
  {
   "cell_type": "markdown",
   "metadata": {},
   "source": [
    "$v(x,0)=max(0,e^{x}-1)$"
   ]
  },
  {
   "cell_type": "markdown",
   "metadata": {},
   "source": [
    "from equation 7, there is\n",
    "\n",
    "$v(x,0)=e^{\\alpha x}u(x,0)$"
   ]
  },
  {
   "cell_type": "markdown",
   "metadata": {},
   "source": [
    "$u(x,0)=e^{-\\alpha x}v(x,0)$\n",
    "\n",
    "$=e^{\\left(\\frac{k-1}{2}\\right)x}max(0,e^{x}-1)$"
   ]
  },
  {
   "cell_type": "markdown",
   "metadata": {},
   "source": [
    "$=max\\left(0,e^{\\left(\\frac{k-1}{2}\\right)x+x}-e^{\\left(\\frac{k-1}{2}\\right)x}\\right)$\n",
    "\n",
    "$=max\\left(0,e^{\\left(\\frac{k+1}{2}\\right)x}-e^{\\left(\\frac{k-1}{2}\\right)x}\\right) \\quad\\text{(13)}$"
   ]
  },
  {
   "cell_type": "markdown",
   "metadata": {},
   "source": [
    "equation 12 is a diffusion equation with the following solution\n",
    "\n",
    "$u(x,\\tau)=\\int_{-\\infty}^{\\infty}u(s,0)\\left(\\frac{1}{2\\sqrt{\\pi \\tau}}e^{-\\frac{(x-s)^{2}}{4 \\tau}}\\right)ds$"
   ]
  },
  {
   "cell_type": "markdown",
   "metadata": {},
   "source": [
    "$=\\frac{1}{2\\sqrt{\\pi \\tau}}\\int_{-\\infty}^{\\infty}u(s,0)\\left(e^{-\\frac{(x-s)^{2}}{4 \\tau}}\\right)ds$"
   ]
  },
  {
   "cell_type": "markdown",
   "metadata": {},
   "source": [
    "let $z=\\frac{s-x}{\\sqrt{2\\tau}}$, $dz=\\frac{1}{\\sqrt{2\\tau}}ds$, then"
   ]
  },
  {
   "cell_type": "markdown",
   "metadata": {},
   "source": [
    "$u(x,\\tau)=\\frac{1}{\\sqrt{2\\pi}}\\int_{-\\infty}^{\\infty}u(z\\sqrt{2\\tau}+x,0)\\left(e^{-\\frac{z^{2}}{2}}\\right)dz$"
   ]
  },
  {
   "cell_type": "markdown",
   "metadata": {},
   "source": [
    "$=\\frac{1}{\\sqrt{2\\pi}}\\int_{-\\infty}^{\\infty}max\\left(0,e^{\\left(\\frac{k+1}{2}\\right)(z\\sqrt{2\\tau}+x)}-e^{\\left(\\frac{k-1}{2}\\right)(z\\sqrt{2\\tau}+x)}\\right)\\left(e^{-\\frac{z^{2}}{2}}\\right)dz$"
   ]
  },
  {
   "cell_type": "markdown",
   "metadata": {},
   "source": [
    "when $s=z\\sqrt{2\\tau}+x>0$, $z>-\\frac{x}{\\sqrt{2\\tau}}$,\n",
    "\n",
    "$u(s,0)=max\\left(0,e^{\\left(\\frac{k+1}{2}\\right)s}-e^{\\left(\\frac{k-1}{2}\\right)s}\\right)>0$"
   ]
  },
  {
   "cell_type": "markdown",
   "metadata": {},
   "source": [
    "$u(x,\\tau)=\\frac{1}{\\sqrt{2\\pi}}\\int_{-\\frac{x}{\\sqrt{2\\tau}}}^{\\infty}\\left(e^{\\left(\\frac{k+1}{2}\\right)(z\\sqrt{2\\tau}+x)}-e^{\\left(\\frac{k-1}{2}\\right)(z\\sqrt{2\\tau}+x)}\\right)\\left(e^{-\\frac{z^{2}}{2}}\\right)dz$"
   ]
  },
  {
   "cell_type": "markdown",
   "metadata": {},
   "source": [
    "$=\\frac{1}{\\sqrt{2\\pi}}\\int_{-\\frac{x}{\\sqrt{2\\tau}}}^{\\infty}\\left(e^{\\left(\\frac{k+1}{2}\\right)(z\\sqrt{2\\tau}+x)}\\right)\\left(e^{-\\frac{z^{2}}{2}}\\right)dz-\\frac{1}{\\sqrt{2\\pi}}\\int_{-\\frac{x}{\\sqrt{2\\tau}}}^{\\infty}\\left(e^{\\left(\\frac{k-1}{2}\\right)(z\\sqrt{2\\tau}+x)}\\right)\\left(e^{-\\frac{z^{2}}{2}}\\right)dz$"
   ]
  },
  {
   "cell_type": "markdown",
   "metadata": {},
   "source": [
    "$=I_{1}-I_{2}$"
   ]
  }
 ],
 "metadata": {
  "kernelspec": {
   "display_name": "Python 3",
   "language": "python",
   "name": "python3"
  },
  "language_info": {
   "codemirror_mode": {
    "name": "ipython",
    "version": 3
   },
   "file_extension": ".py",
   "mimetype": "text/x-python",
   "name": "python",
   "nbconvert_exporter": "python",
   "pygments_lexer": "ipython3",
   "version": "3.8.3"
  }
 },
 "nbformat": 4,
 "nbformat_minor": 4
}
