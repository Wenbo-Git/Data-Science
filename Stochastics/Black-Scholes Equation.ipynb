{
 "cells": [
  {
   "cell_type": "markdown",
   "metadata": {},
   "source": [
    "$S_{t}$: stock price at time $t$\n",
    "\n",
    "$K$: call option's buy price at time $T$\n",
    "\n",
    "$V_{t}=f(t,S_{t})$: value of an European call option on a stock with price $S_{t}$ at time $t$\n",
    "\n",
    "$V_{T}=f(T, S_{T})=max(0, S_{T}-K)$: payout at termination time $T$\n",
    "\n",
    "$B_{t}$: Brownian motion\n",
    "\n",
    "$\\mu$: drift\n",
    "\n",
    "$\\sigma$: volatility\n",
    "\n",
    "$\\beta_{t}$: bond price at time $t$\n",
    "\n",
    "$r$: interest rate\n",
    "\n",
    "$a_{t}$: number of units of stock at time t in the replicating portfolio\n",
    "\n",
    "$b_{t}$: number of units of bond at time t in the replicating portfolio"
   ]
  },
  {
   "cell_type": "markdown",
   "metadata": {},
   "source": [
    "stock model:\n",
    "\n",
    "$dS_{t}=\\mu S_{t} dt + \\sigma S_{t} dB_{t} \\quad\\text{(1)}$\n",
    "\n",
    "bond model:\n",
    "\n",
    "$d\\beta_{t}=r\\beta_{t}dt \\quad\\text{(2)}$"
   ]
  },
  {
   "cell_type": "markdown",
   "metadata": {},
   "source": [
    "construct a replicating portfolio consists of stock and bond:\n",
    "\n",
    "$V_{t}=a_{t}S_{t}+b_{t}\\beta_{t} \\quad\\text{(3)}$"
   ]
  },
  {
   "cell_type": "markdown",
   "metadata": {},
   "source": [
    "$dV_{t}=a_{t}dS_{t}+b_{t}d\\beta_{t}$"
   ]
  },
  {
   "cell_type": "markdown",
   "metadata": {},
   "source": [
    "$=a_{t}\\{\\mu S_{t} dt + \\sigma S_{t} dB_{t}\\}+b_{t}\\{r\\beta_{t}dt\\}$"
   ]
  },
  {
   "cell_type": "markdown",
   "metadata": {},
   "source": [
    "$=\\{a_{t} \\mu S_{t}+b_{t} r \\beta_{t}\\}dt+\\{a_{t} \\sigma S_{t}\\}dB_{t} \\quad\\text{(4)}$"
   ]
  },
  {
   "cell_type": "markdown",
   "metadata": {},
   "source": [
    "from Ito's Lemma, there is\n",
    "\n",
    "$dV_{t}=d(f(t,S_{t}))=\\{f_{t}(t, S_{t})+f_{s}(t, S_{t})\\mu S_{t} + \\frac{1}{2}f_{ss}(t, S_{t}) S_{t}^{2} \\sigma^{2}\\}dt + \\{f_{s}(t, S_{t}) S_{t} \\sigma \\} dB_{t} \\quad\\text{(5)}$"
   ]
  },
  {
   "cell_type": "markdown",
   "metadata": {},
   "source": [
    "by matching the coefficients of $dB_{t}$, there is\n",
    "\n",
    "$a_{t}=f_{s}(t,S_{t}) \\quad\\text{(6)}$"
   ]
  },
  {
   "cell_type": "markdown",
   "metadata": {},
   "source": [
    "by matching the coefficients of $dt$, there is"
   ]
  },
  {
   "cell_type": "markdown",
   "metadata": {},
   "source": [
    "$a_{t} \\mu S_{t}+b_{t} r \\beta_{t}=f_{t}(t, S_{t})+f_{s}(t, S_{t})\\mu S_{t} + \\frac{1}{2}f_{ss}(t, S_{t}) S_{t}^{2} \\sigma^{2}$"
   ]
  },
  {
   "cell_type": "markdown",
   "metadata": {},
   "source": [
    "$f_{s}(t,S_{t}) \\mu S_{t}+b_{t} r \\beta_{t}=f_{t}(t, S_{t})+f_{s}(t, S_{t})\\mu S_{t} + \\frac{1}{2}f_{ss}(t, S_{t}) S_{t}^{2} \\sigma^{2}$"
   ]
  },
  {
   "cell_type": "markdown",
   "metadata": {},
   "source": [
    "$b_{t} r \\beta_{t}=f_{t}(t, S_{t})+\\frac{1}{2}f_{ss}(t, S_{t}) S_{t}^{2} \\sigma^{2}$"
   ]
  },
  {
   "cell_type": "markdown",
   "metadata": {},
   "source": [
    "$b_{t}=\\frac{1}{r \\beta_{t}}\\{f_{t}(t, S_{t})+\\frac{1}{2}f_{ss}(t, S_{t}) S_{t}^{2} \\sigma^{2}\\} \\quad\\text{(7)}$"
   ]
  },
  {
   "cell_type": "markdown",
   "metadata": {},
   "source": [
    "substitute equations 6 and 7 into equation 3, then\n",
    "\n",
    "$f(t,S_{t})=V_{t}$\n",
    "\n",
    "$=f_{s}(t,S_{t})S_{t}+\\frac{1}{r \\beta_{t}}\\{f_{t}(t, S_{t})+\\frac{1}{2}f_{ss}(t, S_{t}) S_{t}^{2} \\sigma^{2}\\}\\beta_{t}$"
   ]
  },
  {
   "cell_type": "markdown",
   "metadata": {},
   "source": [
    "$=f_{s}(t,S_{t})S_{t}+\\frac{1}{r}\\{f_{t}(t, S_{t})+\\frac{1}{2}f_{ss}(t, S_{t}) S_{t}^{2} \\sigma^{2}\\}$"
   ]
  },
  {
   "cell_type": "markdown",
   "metadata": {},
   "source": [
    "$rf(t,S_{t})=rf_{s}(t,S_{t})S_{t}+f_{t}(t, S_{t})+\\frac{1}{2}f_{ss}(t, S_{t}) S_{t}^{2} \\sigma^{2} \\quad\\text{(8)}$ (Black-Scholes Equation)"
   ]
  },
  {
   "cell_type": "markdown",
   "metadata": {},
   "source": [
    "or equivalently,\n",
    "\n",
    "$\\frac{1}{2} \\sigma^{2} S^{2} \\frac{\\partial^{2} V}{\\partial S^{2}}+rS\\frac{\\partial V}{\\partial S}+\\frac{\\partial V}{\\partial t}=rV \\quad\\text{(9)}$ (Black-Scholes Equation)"
   ]
  }
 ],
 "metadata": {
  "kernelspec": {
   "display_name": "Python 3",
   "language": "python",
   "name": "python3"
  },
  "language_info": {
   "codemirror_mode": {
    "name": "ipython",
    "version": 3
   },
   "file_extension": ".py",
   "mimetype": "text/x-python",
   "name": "python",
   "nbconvert_exporter": "python",
   "pygments_lexer": "ipython3",
   "version": "3.8.3"
  }
 },
 "nbformat": 4,
 "nbformat_minor": 4
}
