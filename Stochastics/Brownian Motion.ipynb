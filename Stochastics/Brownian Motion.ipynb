{
 "cells": [
  {
   "cell_type": "markdown",
   "metadata": {},
   "source": [
    "$\\{Z_i\\}_{i=1}^{\\infty}$ is a sequnce of independent and identically distributed random variables.\n",
    "\n",
    "$p\\{Z_i = \\pm 1\\} = \\frac{1}{2}$\n",
    "\n",
    "For $n \\in \\mathbf{N}$, define $\\{Y_{\\frac{i}{n}}^{(n)}\\}_{i=0}^{\\infty}$ where\n",
    "\n",
    "$Y_{0}^{(n)}=0$ and\n",
    "\n",
    "$Y_{\\frac{i+1}{n}}^{(n)}=Y_{\\frac{i}{n}}^{(n)}+\\frac{1}{\\sqrt{n}}Z_{i+1}, \\quad i = 0, 1, 2, ...$\n",
    "\n",
    "When $i = 0, \\quad Y_{\\frac{1}{n}}^{(n)}=Y_{0}^{(n)}+\\frac{1}{\\sqrt{n}}Z_{1}=\\frac{1}{\\sqrt{n}}Z_{1}$\n",
    "\n",
    "When $i = 1, \\quad Y_{\\frac{2}{n}}^{(n)}=Y_{\\frac{1}{n}}^{(n)}+\\frac{1}{\\sqrt{n}}Z_{2}=\\frac{1}{\\sqrt{n}}Z_{1}+\\frac{1}{\\sqrt{n}}Z_{2}$\n",
    "\n",
    "When $i = 2, \\quad Y_{\\frac{3}{n}}^{(n)}=Y_{\\frac{2}{n}}^{(n)}+\\frac{1}{\\sqrt{n}}Z_{3}=\\frac{1}{\\sqrt{n}}Z_{1}+\\frac{1}{\\sqrt{n}}Z_{2}+\\frac{1}{\\sqrt{n}}Z_{3}$\n",
    "\n",
    "$Y_{\\frac{i}{n}}^{(n)}=\\frac{1}{\\sqrt{n}}(Z_{1}+Z_{2}+...+Z_{i})$\n",
    "\n",
    "Let $i =\\lfloor tn \\rfloor,$ then\n",
    "\n",
    "$Y_{\\frac{\\lfloor tn \\rfloor}{n}}^{(n)}=\\frac{1}{\\sqrt{n}}(Z_{1}+Z_{2}+...+Z_{\\lfloor tn \\rfloor}) \\approx \\overline{Y}_{t}^{(n)},$ and\n",
    "\n",
    "$\\{\\overline{Y}_{t}^{(n)}\\}_{t\\geq0}$ is a continuous-time process, then Brownian motion is defined by\n",
    "\n",
    "$\\{B_{t}\\}_{t\\geq0},$ where $B_{t}=\\lim\\limits_{n\\rightarrow \\infty}\\overline{Y}_{t}^{(n)}$ "
   ]
  }
 ],
 "metadata": {
  "kernelspec": {
   "display_name": "Python 3",
   "language": "python",
   "name": "python3"
  },
  "language_info": {
   "codemirror_mode": {
    "name": "ipython",
    "version": 3
   },
   "file_extension": ".py",
   "mimetype": "text/x-python",
   "name": "python",
   "nbconvert_exporter": "python",
   "pygments_lexer": "ipython3",
   "version": "3.8.3"
  }
 },
 "nbformat": 4,
 "nbformat_minor": 4
}
