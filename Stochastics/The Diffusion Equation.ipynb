{
 "cells": [
  {
   "cell_type": "markdown",
   "metadata": {},
   "source": [
    "$\\frac{\\partial u}{\\partial t}=\\lambda\\frac{\\partial^{2}u}{\\partial x^{2}} \\quad\\text{(1)}$ \n",
    "\n",
    "$u(0,x)=f(x) \\quad\\text{(2)}$ "
   ]
  },
  {
   "cell_type": "markdown",
   "metadata": {},
   "source": [
    "Apply Fourier transformation on the left-hand side of equation 1,\n",
    "\n",
    "$\\int_{-\\infty}^{\\infty}e^{i \\theta x}u_{t}(t,x)dx$\n",
    "\n",
    "$=\\int_{-\\infty}^{\\infty}e^{i \\theta x}\\frac{\\partial}{\\partial t}u(t,x)dx$\n",
    "\n",
    "$=\\frac{\\partial}{\\partial t}\\int_{-\\infty}^{\\infty}e^{i \\theta x}u(t,x)dx$\n",
    "\n",
    "$=\\frac{\\partial}{\\partial t}\\hat{u}(t,\\theta)$\n",
    "\n",
    "$=\\hat{u}_{t}(t,\\theta) \\quad\\text{(3)}$ "
   ]
  },
  {
   "cell_type": "markdown",
   "metadata": {},
   "source": [
    "apply Fourier transformation on the left-hand side of equation 2,\n",
    "\n",
    "$\\int_{-\\infty}^{\\infty}e^{i \\theta x}u_{xx}(t,x)dx=I$"
   ]
  },
  {
   "cell_type": "markdown",
   "metadata": {},
   "source": [
    "recall from integration by parts,\n",
    "\n",
    "$\\int_{a}^{b}u(x)v^{\\prime}(x)dx=[u(x)v(x)]_{a}^{b}-\\int_{a}^{b}u^{\\prime}(x)v(x)dx$"
   ]
  },
  {
   "cell_type": "markdown",
   "metadata": {},
   "source": [
    "$\\int_{-\\infty}^{\\infty}e^{i \\theta x}u_{xx}(t,x)dx$\n",
    "\n",
    "$=[e^{i \\theta x}u_{x}(t,x)]_{-\\infty}^{\\infty}-i \\theta\\int_{a}^{b}e^{i \\theta x}u_{x}(t,x)dx$"
   ]
  },
  {
   "cell_type": "markdown",
   "metadata": {},
   "source": [
    "$=[e^{i \\theta x}u_{x}(t,x)]_{-\\infty}^{\\infty}-\\left(i \\theta\\left([e^{i \\theta x}u(t,x)]_{-\\infty}^{\\infty}-i \\theta\\int_{a}^{b}e^{i \\theta x}u(t,x)dx\\right)\\right)$"
   ]
  },
  {
   "cell_type": "markdown",
   "metadata": {},
   "source": [
    "$=[e^{i \\theta x}u_{x}(t,x)]_{-\\infty}^{\\infty}-\\left(i \\theta[e^{i \\theta x}u(t,x)]_{-\\infty}^{\\infty}-i^{2} \\theta^{2} \\int_{a}^{b}e^{i \\theta x}u(t,x)dx\\right)$"
   ]
  },
  {
   "cell_type": "markdown",
   "metadata": {},
   "source": [
    "$=[e^{i \\theta x}u_{x}(t,x)]_{-\\infty}^{\\infty}-i \\theta[e^{i \\theta x}u(t,x)]_{-\\infty}^{\\infty}+i^{2} \\theta^{2} \\int_{a}^{b}e^{i \\theta x}u(t,x)dx$"
   ]
  },
  {
   "cell_type": "markdown",
   "metadata": {},
   "source": [
    "$=[e^{i \\theta x}u_{x}(t,x)]_{-\\infty}^{\\infty}-i \\theta[e^{i \\theta x}u(t,x)]_{-\\infty}^{\\infty}-\\theta^{2} \\int_{a}^{b}e^{i \\theta x}u(t,x)dx$"
   ]
  },
  {
   "cell_type": "markdown",
   "metadata": {},
   "source": [
    "since $\\lim\\limits_{|x| \\rightarrow \\infty}u(t,x)=0, \\lim\\limits_{|x| \\rightarrow \\infty}u_{x}(t,x)=0$,\n",
    "\n",
    "$\\int_{-\\infty}^{\\infty}e^{i \\theta x}u_{xx}(t,x)dx$\n",
    "\n",
    "$=-\\theta^{2} \\int_{a}^{b}e^{i \\theta x}u(t,x)dx$\n",
    "\n",
    "$=-\\theta^{2} \\hat{u}(t,\\theta) \\quad\\text{(4)}$ "
   ]
  },
  {
   "cell_type": "markdown",
   "metadata": {},
   "source": [
    "using equations 3 and 4, we can rewrite the diffusion equation 1 as\n",
    "\n",
    "$\\hat{u}_{t}(t,\\theta)=-\\lambda\\theta^{2} \\hat{u}(t,\\theta)$"
   ]
  },
  {
   "cell_type": "markdown",
   "metadata": {},
   "source": [
    "$\\hat{u}_{t}(t,\\theta)+\\lambda\\theta^{2} \\hat{u}(t,\\theta)=0$"
   ]
  },
  {
   "cell_type": "markdown",
   "metadata": {},
   "source": [
    "this is a linear first-order ordinary differential equation,"
   ]
  },
  {
   "cell_type": "markdown",
   "metadata": {},
   "source": [
    "$v(t)=e^{\\int \\lambda \\theta^{2}dt}=e^{\\lambda \\theta^{2}t}$"
   ]
  },
  {
   "cell_type": "markdown",
   "metadata": {},
   "source": [
    "$\\hat{u}(t,\\theta)=\\frac{\\int v(t)*0dt+h(\\theta)}{v(t)}=h(\\theta)e^{-\\lambda \\theta^{2}t} \\quad\\text{(5)}$ "
   ]
  },
  {
   "cell_type": "markdown",
   "metadata": {},
   "source": [
    "this solution can be verified easily,\n",
    "\n",
    "$\\hat{u}_{t}(t,\\theta)$\n",
    "\n",
    "$=\\frac{d}{dt}\\hat{u}(t,\\theta)$\n",
    "\n",
    "$=\\frac{d}{dt}\\left(h(\\theta)e^{-\\lambda \\theta^{2}t}\\right)$\n",
    "\n",
    "$=\\frac{d}{dt}(-\\lambda \\theta^{2}t)\\left(h(\\theta)e^{-\\lambda \\theta^{2}t}\\right)$\n",
    "\n",
    "$=(-\\lambda \\theta^{2})\\left(h(\\theta)e^{-\\lambda \\theta^{2}t}\\right)$\n",
    "\n",
    "$=-\\lambda\\theta^{2} \\hat{u}(t,\\theta)$"
   ]
  },
  {
   "cell_type": "markdown",
   "metadata": {},
   "source": [
    "apply Fourier transformation on the initial condition, equation 2,\n",
    "\n",
    "$\\hat{u}(0,\\theta)=\\int_{-\\infty}^{\\infty}e^{i \\theta x}u(0,x)dx=\\int_{-\\infty}^{\\infty}e^{i \\theta x}f(x)dx=\\hat{f}(\\theta)$"
   ]
  },
  {
   "cell_type": "markdown",
   "metadata": {},
   "source": [
    "from equation 5, there is\n",
    "\n",
    "$\\hat{u}(0,\\theta)=h(\\theta)e^{-\\lambda \\theta^{2}*0}=h(\\theta)=\\hat{f}(\\theta)$"
   ]
  },
  {
   "cell_type": "markdown",
   "metadata": {},
   "source": [
    "rewrite equation 5 as\n",
    "\n",
    "$\\hat{u}(t,\\theta)=\\hat{f}(\\theta)e^{-\\lambda \\theta^{2}t} \\quad\\text{(6)}$ "
   ]
  }
 ],
 "metadata": {
  "kernelspec": {
   "display_name": "Python 3",
   "language": "python",
   "name": "python3"
  },
  "language_info": {
   "codemirror_mode": {
    "name": "ipython",
    "version": 3
   },
   "file_extension": ".py",
   "mimetype": "text/x-python",
   "name": "python",
   "nbconvert_exporter": "python",
   "pygments_lexer": "ipython3",
   "version": "3.8.3"
  }
 },
 "nbformat": 4,
 "nbformat_minor": 4
}
