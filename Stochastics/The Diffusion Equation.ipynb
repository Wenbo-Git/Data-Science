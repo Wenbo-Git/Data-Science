{
 "cells": [
  {
   "cell_type": "markdown",
   "metadata": {},
   "source": [
    "$\\frac{\\partial u}{\\partial t}=\\lambda\\frac{\\partial^{2}u}{\\partial x^{2}} \\quad\\text{(1)}$ \n",
    "\n",
    "$u(0,x)=f(x) \\quad\\text{(2)}$ "
   ]
  },
  {
   "cell_type": "markdown",
   "metadata": {},
   "source": [
    "Apply Fourier transformation on the left-hand side of equation 1,\n",
    "\n",
    "$\\int_{-\\infty}^{\\infty}e^{i \\theta x}u_{t}(t,x)dx$\n",
    "\n",
    "$=\\int_{-\\infty}^{\\infty}e^{i \\theta x}\\frac{\\partial}{\\partial t}u(t,x)dx$\n",
    "\n",
    "$=\\frac{\\partial}{\\partial t}\\int_{-\\infty}^{\\infty}e^{i \\theta x}u(t,x)dx$\n",
    "\n",
    "$=\\frac{\\partial}{\\partial t}\\hat{u}(t,\\theta)$\n",
    "\n",
    "$=\\hat{u}_{t}(t,\\theta) \\quad\\text{(3)}$ "
   ]
  },
  {
   "cell_type": "markdown",
   "metadata": {},
   "source": [
    "apply Fourier transformation on the left-hand side of equation 2,\n",
    "\n",
    "$\\int_{-\\infty}^{\\infty}e^{i \\theta x}u_{xx}(t,x)dx=I$"
   ]
  },
  {
   "cell_type": "markdown",
   "metadata": {},
   "source": [
    "recall from integration by parts,\n",
    "\n",
    "$\\int_{a}^{b}u(x)v^{\\prime}(x)dx=[u(x)v(x)]_{a}^{b}-\\int_{a}^{b}u^{\\prime}(x)v(x)dx$"
   ]
  },
  {
   "cell_type": "markdown",
   "metadata": {},
   "source": [
    "$\\int_{-\\infty}^{\\infty}e^{i \\theta x}u_{xx}(t,x)dx$\n",
    "\n",
    "$=[e^{i \\theta x}u_{x}(t,x)]_{-\\infty}^{\\infty}-i \\theta\\int_{a}^{b}e^{i \\theta x}u_{x}(t,x)dx$"
   ]
  },
  {
   "cell_type": "markdown",
   "metadata": {},
   "source": [
    "$=[e^{i \\theta x}u_{x}(t,x)]_{-\\infty}^{\\infty}-\\left(i \\theta\\left([e^{i \\theta x}u(t,x)]_{-\\infty}^{\\infty}-i \\theta\\int_{a}^{b}e^{i \\theta x}u(t,x)dx\\right)\\right)$"
   ]
  },
  {
   "cell_type": "markdown",
   "metadata": {},
   "source": [
    "$=[e^{i \\theta x}u_{x}(t,x)]_{-\\infty}^{\\infty}-\\left(i \\theta[e^{i \\theta x}u(t,x)]_{-\\infty}^{\\infty}-i^{2} \\theta^{2} \\int_{a}^{b}e^{i \\theta x}u(t,x)dx\\right)$"
   ]
  },
  {
   "cell_type": "markdown",
   "metadata": {},
   "source": [
    "$=[e^{i \\theta x}u_{x}(t,x)]_{-\\infty}^{\\infty}-i \\theta[e^{i \\theta x}u(t,x)]_{-\\infty}^{\\infty}+i^{2} \\theta^{2} \\int_{a}^{b}e^{i \\theta x}u(t,x)dx$"
   ]
  },
  {
   "cell_type": "markdown",
   "metadata": {},
   "source": [
    "$=[e^{i \\theta x}u_{x}(t,x)]_{-\\infty}^{\\infty}-i \\theta[e^{i \\theta x}u(t,x)]_{-\\infty}^{\\infty}-\\theta^{2} \\int_{a}^{b}e^{i \\theta x}u(t,x)dx$"
   ]
  },
  {
   "cell_type": "markdown",
   "metadata": {},
   "source": [
    "since $\\lim\\limits_{|x| \\rightarrow \\infty}u(t,x)=0, \\lim\\limits_{|x| \\rightarrow \\infty}u_{x}(t,x)=0$,\n",
    "\n",
    "$\\int_{-\\infty}^{\\infty}e^{i \\theta x}u_{xx}(t,x)dx$\n",
    "\n",
    "$=-\\theta^{2} \\int_{a}^{b}e^{i \\theta x}u(t,x)dx$\n",
    "\n",
    "$=-\\theta^{2} \\hat{u}(t,\\theta) \\quad\\text{(4)}$ "
   ]
  },
  {
   "cell_type": "markdown",
   "metadata": {},
   "source": [
    "using equations 3 and 4, we can rewrite the diffusion equation 1 as\n",
    "\n",
    "$\\hat{u}_{t}(t,\\theta)=-\\lambda\\theta^{2} \\hat{u}(t,\\theta)$"
   ]
  },
  {
   "cell_type": "markdown",
   "metadata": {},
   "source": [
    "$\\hat{u}_{t}(t,\\theta)+\\lambda\\theta^{2} \\hat{u}(t,\\theta)=0$"
   ]
  },
  {
   "cell_type": "markdown",
   "metadata": {},
   "source": [
    "this is a linear first-order ordinary differential equation,"
   ]
  },
  {
   "cell_type": "markdown",
   "metadata": {},
   "source": [
    "$v(t)=e^{\\int \\lambda \\theta^{2}dt}=e^{\\lambda \\theta^{2}t}$"
   ]
  },
  {
   "cell_type": "markdown",
   "metadata": {},
   "source": [
    "$\\hat{u}(t,\\theta)=\\frac{\\int v(t)*0dt+h(\\theta)}{v(t)}=h(\\theta)e^{-\\lambda \\theta^{2}t} \\quad\\text{(5)}$ "
   ]
  },
  {
   "cell_type": "markdown",
   "metadata": {},
   "source": [
    "this solution can be verified easily,\n",
    "\n",
    "$\\hat{u}_{t}(t,\\theta)$\n",
    "\n",
    "$=\\frac{d}{dt}\\hat{u}(t,\\theta)$\n",
    "\n",
    "$=\\frac{d}{dt}\\left(h(\\theta)e^{-\\lambda \\theta^{2}t}\\right)$\n",
    "\n",
    "$=\\frac{d}{dt}(-\\lambda \\theta^{2}t)\\left(h(\\theta)e^{-\\lambda \\theta^{2}t}\\right)$\n",
    "\n",
    "$=(-\\lambda \\theta^{2})\\left(h(\\theta)e^{-\\lambda \\theta^{2}t}\\right)$\n",
    "\n",
    "$=-\\lambda\\theta^{2} \\hat{u}(t,\\theta)$"
   ]
  },
  {
   "cell_type": "markdown",
   "metadata": {},
   "source": [
    "apply Fourier transformation on the initial condition, equation 2,\n",
    "\n",
    "$\\hat{u}(0,\\theta)=\\int_{-\\infty}^{\\infty}e^{i \\theta x}u(0,x)dx=\\int_{-\\infty}^{\\infty}e^{i \\theta x}f(x)dx=\\hat{f}(\\theta)$"
   ]
  },
  {
   "cell_type": "markdown",
   "metadata": {},
   "source": [
    "from equation 5, there is\n",
    "\n",
    "$\\hat{u}(0,\\theta)=h(\\theta)e^{-\\lambda \\theta^{2}*0}=h(\\theta)=\\hat{f}(\\theta)$"
   ]
  },
  {
   "cell_type": "markdown",
   "metadata": {},
   "source": [
    "rewrite equation 5 as\n",
    "\n",
    "$\\hat{u}(t,\\theta)=\\hat{f}(\\theta)e^{-\\lambda \\theta^{2}t} \\quad\\text{(6)}$ "
   ]
  },
  {
   "cell_type": "markdown",
   "metadata": {},
   "source": [
    "let the convolution of $f$ and $g$ be\n",
    "\n",
    "$(f*g)(x)=\\int_{-\\infty}^{\\infty}f(x-y)g(y)dy=\\int_{-\\infty}^{\\infty}f(y)g(x-y)dy \\quad\\text{(7)}$"
   ]
  },
  {
   "cell_type": "markdown",
   "metadata": {},
   "source": [
    "then apply Fourier transform on the convolution $(f*g)(x)$\n",
    "\n",
    "$\\int_{-\\infty}^{\\infty}e^{i \\theta x}(f*g)(x)dx$\n",
    "\n",
    "$=\\int_{-\\infty}^{\\infty}e^{i \\theta x}\\left(\\int_{-\\infty}^{\\infty}f(y)g(x-y)dy\\right)dx$\n",
    "\n",
    "$=\\int_{-\\infty}^{\\infty}f(y)\\left(\\int_{-\\infty}^{\\infty}e^{i \\theta x}g(x-y)dx\\right)dy$"
   ]
  },
  {
   "cell_type": "markdown",
   "metadata": {},
   "source": [
    "let $z=x-y, dz=dx, x=z+y$, then\n",
    "\n",
    "$\\int_{-\\infty}^{\\infty}e^{i \\theta x}(f*g)(x)dx$\n",
    "\n",
    "$=\\int_{-\\infty}^{\\infty}f(y)\\left(\\int_{-\\infty}^{\\infty}e^{i \\theta (z+y)}g(z)dz\\right)dy$\n",
    "\n",
    "$=\\int_{-\\infty}^{\\infty}f(y)\\left(\\int_{-\\infty}^{\\infty}e^{i \\theta z}e^{i \\theta y}g(z)dz\\right)dy$\n",
    "\n",
    "$=\\int_{-\\infty}^{\\infty}e^{i \\theta y}f(y)\\left(\\int_{-\\infty}^{\\infty}e^{i \\theta z}g(z)dz\\right)dy$\n",
    "\n",
    "$=\\int_{-\\infty}^{\\infty}e^{i \\theta y}f(y)dy\\int_{-\\infty}^{\\infty}e^{i \\theta z}g(z)dz$\n",
    "\n",
    "$=\\hat{f}(\\theta)\\hat{g}(\\theta) \\quad\\text{(8)}$"
   ]
  },
  {
   "cell_type": "markdown",
   "metadata": {},
   "source": [
    "let $y \\sim N(0, 2 \\lambda t)$ \n",
    "\n",
    "$g(y)=\\frac{1}{\\sqrt{2 \\pi (2 \\lambda t)}}e^{-\\frac{y^{2}}{2*(2 \\lambda t)}}=\\frac{1}{2\\sqrt{\\pi \\lambda t}}e^{-\\frac{y^{2}}{4 \\lambda t}} \\quad\\text{(9)}$"
   ]
  },
  {
   "cell_type": "markdown",
   "metadata": {},
   "source": [
    "apply Fourier transform on $g(y)$,\n",
    "\n",
    "$\\hat{g}(\\theta)=\\int_{-\\infty}^{\\infty}e^{i \\theta y}g(y)dy$\n",
    "\n",
    "$=\\int_{-\\infty}^{\\infty}e^{i \\theta y}\\left(\\frac{1}{2\\sqrt{\\pi \\lambda t}}e^{-\\frac{y^{2}}{4 \\lambda t}}\\right)dy$"
   ]
  },
  {
   "cell_type": "markdown",
   "metadata": {},
   "source": [
    "$=\\frac{1}{2\\sqrt{\\pi \\lambda t}}\\int_{-\\infty}^{\\infty}e^{i \\theta y}\\left(e^{-\\frac{y^{2}}{4 \\lambda t}}\\right)dy$"
   ]
  },
  {
   "cell_type": "markdown",
   "metadata": {},
   "source": [
    "$=\\frac{1}{2\\sqrt{\\pi \\lambda t}}\\int_{-\\infty}^{\\infty}[cos(\\theta y)-i*sin(\\theta y)]\\left(e^{-\\frac{y^{2}}{4 \\lambda t}}\\right)dy$, and becasue $\\int_{-\\infty}^{\\infty}sin(x)dx=0$"
   ]
  },
  {
   "cell_type": "markdown",
   "metadata": {},
   "source": [
    "$=\\frac{1}{2\\sqrt{\\pi \\lambda t}}\\int_{-\\infty}^{\\infty}cos(\\theta y)\\left(e^{-\\frac{y^{2}}{4 \\lambda t}}\\right)dy$"
   ]
  },
  {
   "cell_type": "markdown",
   "metadata": {},
   "source": [
    "$\\hat{g}^{\\prime}(\\theta)=-\\frac{1}{2\\sqrt{\\pi \\lambda t}}\\int_{-\\infty}^{\\infty}sin(\\theta y)y\\left(e^{-\\frac{y^{2}}{4 \\lambda t}}\\right)dy$"
   ]
  },
  {
   "cell_type": "markdown",
   "metadata": {},
   "source": [
    "integrate by parts, let $u=sin(\\theta y)$, $dv = -y\\left(e^{-\\frac{y^{2}}{4 \\lambda t}}\\right)dy$, then"
   ]
  },
  {
   "cell_type": "markdown",
   "metadata": {},
   "source": [
    "$du = \\theta cos(\\theta y)$"
   ]
  },
  {
   "cell_type": "markdown",
   "metadata": {},
   "source": [
    "$v=\\int -y\\left(e^{-\\frac{y^{2}}{4 \\lambda t}}\\right)dy$"
   ]
  },
  {
   "cell_type": "markdown",
   "metadata": {},
   "source": [
    "let $w=-\\frac{y^{2}}{4 \\lambda t}$, then $dw=-\\frac{1}{2 \\lambda t}ydy$, $2 \\lambda t dw=-ydy$"
   ]
  },
  {
   "cell_type": "markdown",
   "metadata": {},
   "source": [
    "$v=\\int e^{w} 2\\lambda tdw=2\\lambda t\\int e^{w}dw=2\\lambda t e^{w}=2\\lambda t e^{-\\frac{y^{2}}{4 \\lambda t}}$"
   ]
  },
  {
   "cell_type": "markdown",
   "metadata": {},
   "source": [
    "$\\hat{g}^{\\prime}(\\theta)=-\\frac{1}{2\\sqrt{\\pi \\lambda t}}\\left(\\int_{-\\infty}^{\\infty}sin(\\theta y)y\\left(e^{-\\frac{y^{2}}{4 \\lambda t}}\\right)dy\\right)$"
   ]
  },
  {
   "cell_type": "markdown",
   "metadata": {},
   "source": [
    "$=\\frac{1}{2\\sqrt{\\pi \\lambda t}}\\left([sin(\\theta y)*2\\lambda t e^{-\\frac{y^{2}}{4 \\lambda t}}]_{y=-\\infty}^{y=\\infty}-\\int_{-\\infty}^{\\infty} \\left(2\\lambda t e^{-\\frac{y^{2}}{4 \\lambda t}}\\right)\\theta cos(\\theta y)dy\\right)$"
   ]
  },
  {
   "cell_type": "markdown",
   "metadata": {},
   "source": [
    "$=\\frac{1}{2\\sqrt{\\pi \\lambda t}}\\left(-\\int_{-\\infty}^{\\infty} \\left(2\\lambda t e^{-\\frac{y^{2}}{4 \\lambda t}}\\right)\\theta cos(\\theta y)dy\\right)$"
   ]
  },
  {
   "cell_type": "markdown",
   "metadata": {},
   "source": [
    "$=-2\\lambda t\\theta\\frac{1}{2\\sqrt{\\pi \\lambda t}}\\left(\\int_{-\\infty}^{\\infty} \\left(e^{-\\frac{y^{2}}{4 \\lambda t}}\\right)cos(\\theta y)dy\\right)$"
   ]
  },
  {
   "cell_type": "markdown",
   "metadata": {},
   "source": [
    "$=-2\\lambda t\\theta*\\hat{g}(\\theta)$"
   ]
  },
  {
   "cell_type": "markdown",
   "metadata": {},
   "source": [
    "$\\hat{g}^{\\prime}(\\theta)+2\\lambda t\\theta*\\hat{g}(\\theta)=0$"
   ]
  },
  {
   "cell_type": "markdown",
   "metadata": {},
   "source": [
    "this is again a linear first order ordinary differential equation,"
   ]
  },
  {
   "cell_type": "markdown",
   "metadata": {},
   "source": [
    "$h(\\theta)=e^{\\int 2 \\lambda t \\theta d\\theta}=e^{2 \\lambda t\\int \\theta d\\theta}=e^{2 \\lambda t \\frac{1}{2}\\theta^{2}}=e^{\\lambda t \\theta^{2}}$"
   ]
  },
  {
   "cell_type": "markdown",
   "metadata": {},
   "source": [
    "$\\hat{g}(\\theta)=\\frac{\\int h(\\theta)*0 d \\theta + 1}{h(\\theta)}=h(\\theta)^{-1}=e^{-\\lambda t \\theta^{2}} \\quad\\text{(10)}$"
   ]
  },
  {
   "cell_type": "markdown",
   "metadata": {},
   "source": [
    "from equations 7 and 9, we know that if\n",
    "\n",
    "$(f*g)(x)$\n",
    "\n",
    "$=\\int_{-\\infty}^{\\infty}f(x-y)g(y)dy$\n",
    "\n",
    "$=\\int_{-\\infty}^{\\infty}f(x-y)\\left(\\frac{1}{2\\sqrt{\\pi \\lambda t}}e^{-\\frac{y^{2}}{4 \\lambda t}}\\right)dy$\n",
    "\n",
    "$=\\int_{-\\infty}^{\\infty}f(y)g(x-y)dy$\n",
    "\n",
    "$=\\int_{-\\infty}^{\\infty}f(y)\\left(\\frac{1}{2\\sqrt{\\pi \\lambda t}}e^{-\\frac{(x-y)^{2}}{4 \\lambda t}}\\right)dy$\n",
    "\n",
    "then from equations 6, 8 and 10, there is\n",
    "\n",
    "$\\hat{(f*g)(x)}=\\hat{f}(\\theta)\\hat{g}(\\theta)=\\hat{f}(\\theta)e^{-\\lambda t \\theta^{2}}=\\hat{u}(t,\\theta)$"
   ]
  },
  {
   "cell_type": "markdown",
   "metadata": {},
   "source": [
    "therefore,\n",
    "\n",
    "$u(t,x)=(f*g)(x)=\\int_{-\\infty}^{\\infty}f(y)\\left(\\frac{1}{2\\sqrt{\\pi \\lambda t}}e^{-\\frac{(x-y)^{2}}{4 \\lambda t}}\\right)dy \\quad\\text{(11)}$\n",
    "\n",
    "is the solution of\n",
    "\n",
    "$\\frac{\\partial u}{\\partial t}=\\lambda\\frac{\\partial^{2}u}{\\partial x^{2}}$"
   ]
  }
 ],
 "metadata": {
  "kernelspec": {
   "display_name": "Python 3",
   "language": "python",
   "name": "python3"
  },
  "language_info": {
   "codemirror_mode": {
    "name": "ipython",
    "version": 3
   },
   "file_extension": ".py",
   "mimetype": "text/x-python",
   "name": "python",
   "nbconvert_exporter": "python",
   "pygments_lexer": "ipython3",
   "version": "3.8.3"
  }
 },
 "nbformat": 4,
 "nbformat_minor": 4
}
