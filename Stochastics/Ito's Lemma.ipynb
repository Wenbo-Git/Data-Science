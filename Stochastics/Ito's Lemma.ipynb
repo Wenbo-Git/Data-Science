{
 "cells": [
  {
   "cell_type": "markdown",
   "metadata": {},
   "source": [
    "From stochastic integrals equation 4, there is\n",
    "\n",
    "$dX_{t}=\\sigma(X_{t})dB_{t}+\\mu(X_{t})dt \\quad\\text{(1)}$\n",
    "\n",
    "The process $\\{X_{t}\\}_{t\\geq0}$ is called a diffusion with drift $\\mu(x)$ and volatility $\\sigma(x)$. "
   ]
  },
  {
   "cell_type": "markdown",
   "metadata": {},
   "source": [
    "Consider a twice-differentiable function $f(t, X_{t})$, its Taylor series is\n",
    "\n",
    "$d(f(t, X_{t})) \\approx \\frac{\\partial f}{\\partial t}dt+\\frac{\\partial f}{\\partial X_{t}}dX_{t}+\\frac{1}{2}\\frac{\\partial^{2}f}{\\partial X_{t}^{2}}dX_{t}^{2}$\n",
    "\n",
    "$=\\frac{\\partial f}{\\partial t}dt+\\frac{\\partial f}{\\partial X_{t}}(\\sigma(X_{t})dB_{t}+\\mu(X_{t})dt)+\\frac{1}{2}\\frac{\\partial^{2}f}{\\partial X_{t}^{2}}(\\sigma(X_{t})dB_{t}+\\mu(X_{t})dt)^{2}$\n",
    "\n",
    "$\\approx \\frac{\\partial f}{\\partial t}dt+\\frac{\\partial f}{\\partial X_{t}}(\\sigma(X_{t})dB_{t}+\\mu(X_{t})dt)+\\frac{1}{2}\\frac{\\partial^{2}f}{\\partial X_{t}^{2}}(\\sigma(X_{t}))^{2}(dB_{t})^{2} \\quad\\text{(2)}$"
   ]
  },
  {
   "cell_type": "markdown",
   "metadata": {},
   "source": [
    "Since $B_{t+h}-B_{t} \\sim N(0, h)$\n",
    "\n",
    "$E[(B_{t+h}-B_{t}-0)^{2}]=E[(B_{t+h}-B_{t})^{2}]=h$, so\n",
    "\n",
    "$(B_{t+h}-B_{t})^{2}=h+O(h)$\n",
    "\n",
    "$\\lim\\limits_{h \\rightarrow 0}\\left(\\frac{(B_{t+h}-B_{t})^{2}}{h}\\right)=\\lim\\limits_{h \\rightarrow 0}\\frac{(t+h)-t}{h}$\n",
    "\n",
    "$(dB_{t})^{2}=dt \\quad\\text{(3)}$"
   ]
  },
  {
   "cell_type": "markdown",
   "metadata": {},
   "source": [
    "Substitute equation 3 in equation 2,\n",
    "\n",
    "$d(f(t, X_{t})) \\approx \\frac{\\partial f}{\\partial t}dt+\\frac{\\partial f}{\\partial X_{t}}(\\sigma(X_{t})dB_{t}+\\mu(X_{t})dt)+\\frac{1}{2}\\frac{\\partial^{2}f}{\\partial X_{t}^{2}}(\\sigma(X_{t}))^{2}dt$\n",
    "\n",
    "$=\\frac{\\partial f}{\\partial t}dt+\\frac{\\partial f}{\\partial X_{t}}\\sigma(X_{t})dB_{t}+\\frac{\\partial f}{\\partial X_{t}}\\mu(X_{t})dt+\\frac{1}{2}\\frac{\\partial^{2}f}{\\partial X_{t}^{2}}(\\sigma(X_{t}))^{2}dt$\n",
    "\n",
    "$=f_{t}(t, X_{t})dt+f_{x}(t, X_{t})\\mu dt + \\frac{1}{2}f_{xx}(t, X_{t}) \\sigma^{2}dt + f_{x}(t, X_{t}) \\sigma dB_{t}$\n",
    "\n",
    "$=\\{f_{t}+f_{x}\\mu + \\frac{1}{2}f_{xx} \\sigma^{2}\\}dt + f_{x}\\sigma dB_{t} \\quad\\text{(4)}$ (Ito's Lemma)\n",
    "\n",
    "Therefore, the process $\\{f(t, X_{t})\\}_{t\\geq0}$ is also a diffusion with drift $\\{f_{t}+f_{x}\\mu + \\frac{1}{2}f_{xx} \\sigma^{2}\\}$ and volatility $f_{x}\\sigma$. "
   ]
  },
  {
   "cell_type": "markdown",
   "metadata": {},
   "source": [
    "Similarly, if\n",
    "\n",
    "$dX_{t}=\\sigma(X_{t})X_{t}dB_{t}+\\mu(X_{t})X_{t}dt$, then\n",
    "\n",
    "$d(f(t, X_{t}))$\n",
    "\n",
    "$\\approx \\frac{\\partial f}{\\partial t}dt+\\frac{\\partial f}{\\partial X_{t}}(\\sigma(X_{t})X_{t}dB_{t}+\\mu(X_{t})X_{t}dt)+\\frac{1}{2}\\frac{\\partial^{2}f}{\\partial X_{t}^{2}}(\\sigma(X_{t})X_{t}dB_{t}+\\mu(X_{t})X_{t}dt)^{2}$\n",
    "\n",
    "$\\approx \\frac{\\partial f}{\\partial t}dt+\\frac{\\partial f}{\\partial X_{t}}(\\sigma(X_{t})X_{t}dB_{t}+\\mu(X_{t})X_{t}dt)+\\frac{1}{2}\\frac{\\partial^{2}f}{\\partial X_{t}^{2}}(\\sigma(X_{t}))^{2}X_{t}^{2}(dB_{t})^{2}$\n",
    "\n",
    "$=\\frac{\\partial f}{\\partial t}dt+\\frac{\\partial f}{\\partial X_{t}}\\sigma(X_{t})X_{t}dB_{t}+\\frac{\\partial f}{\\partial X_{t}}X_{t}\\mu(X_{t})dt+\\frac{1}{2}\\frac{\\partial^{2}f}{\\partial X_{t}^{2}}(\\sigma(X_{t}))^{2}X_{t}^{2}dt$\n",
    "\n",
    "$=f_{t}(t, X_{t})dt+f_{x}(t, X_{t})\\mu X_{t} dt + \\frac{1}{2}f_{xx}(t, X_{t}) X_{t}^{2} \\sigma^{2}dt + f_{x}(t, X_{t}) X_{t} \\sigma dB_{t}$\n",
    "\n",
    "$=\\{f_{t}(t, X_{t})+f_{x}(t, X_{t})\\mu X_{t} + \\frac{1}{2}f_{xx}(t, X_{t}) X_{t}^{2} \\sigma^{2}\\}dt + f_{x}(t, X_{t}) X_{t} \\sigma dB_{t} \\quad\\text{(5)}$ (Ito's Lemma)"
   ]
  }
 ],
 "metadata": {
  "kernelspec": {
   "display_name": "Python 3",
   "language": "python",
   "name": "python3"
  },
  "language_info": {
   "codemirror_mode": {
    "name": "ipython",
    "version": 3
   },
   "file_extension": ".py",
   "mimetype": "text/x-python",
   "name": "python",
   "nbconvert_exporter": "python",
   "pygments_lexer": "ipython3",
   "version": "3.8.3"
  }
 },
 "nbformat": 4,
 "nbformat_minor": 4
}
