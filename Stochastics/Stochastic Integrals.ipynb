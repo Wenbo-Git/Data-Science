{
 "cells": [
  {
   "cell_type": "markdown",
   "metadata": {},
   "source": [
    "From Brownian motion equation 1,\n",
    "\n",
    "$Y_{\\frac{i+1}{n}}^{(n)}=Y_{\\frac{i}{n}}^{(n)}+\\frac{1}{\\sqrt{n}}Z_{i+1}, \\quad i = 0, 1, 2, ...$"
   ]
  },
  {
   "cell_type": "markdown",
   "metadata": {},
   "source": [
    "Let $\\sigma(Y_{\\frac{i}{n}}^{(n)})$ be volatility, let $\\frac{1}{n}\\mu(Y_{\\frac{i}{n}}^{(n)})$ be drift, and \n",
    "\n",
    "$Y_{\\frac{i+1}{n}}^{(n)}=Y_{\\frac{i}{n}}^{(n)}+\\frac{1}{\\sqrt{n}}Z_{i+1}\\sigma(Y_{\\frac{i}{n}}^{(n)})+\\frac{1}{n}\\mu(Y_{\\frac{i}{n}}^{(n)}) \\quad\\text{(1)}$"
   ]
  },
  {
   "cell_type": "markdown",
   "metadata": {},
   "source": [
    "When n is large,\n",
    "\n",
    "$\\frac{1}{\\sqrt{n}}Z_{i+1}=Y_{\\frac{i+1}{n}}^{(n)}-Y_{\\frac{i}{n}}^{(n)} \\approx B_{\\frac{i+1}{n}}-B_{\\frac{i}{n}}$\n",
    "\n",
    "$Y_{\\frac{i+1}{n}}^{(n)}-Y_{\\frac{i}{n}}^{(n)} \\approx (B_{\\frac{i+1}{n}}-B_{\\frac{i}{n}})\\sigma(Y_{\\frac{i}{n}}^{(n)})+\\frac{1}{n}\\mu(Y_{\\frac{i}{n}}^{(n)}) \\quad\\text{(2)}$"
   ]
  },
  {
   "cell_type": "markdown",
   "metadata": {},
   "source": [
    "Divide the equation 2 by a time differential $\\frac{1}{n}$,\n",
    "\n",
    "$\\frac{Y_{\\frac{i+1}{n}}^{(n)}-Y_{\\frac{i}{n}}^{(n)}}{\\frac{1}{n}} = \\frac{B_{\\frac{i+1}{n}}-B_{\\frac{i}{n}}}{\\frac{1}{n}}\\sigma(Y_{\\frac{i}{n}}^{(n)})+\\frac{\\frac{1}{n}}{\\frac{1}{n}}\\mu(Y_{\\frac{i}{n}}^{(n)}) \\quad\\text{(3)}$\n",
    "\n",
    "Let $X_{t}=\\lim\\limits_{n\\rightarrow \\infty}\\overline{Y}_{t}^{(n)}$, and take the limit of equation 3 as $n\\rightarrow \\infty$, "
   ]
  },
  {
   "cell_type": "markdown",
   "metadata": {},
   "source": [
    "$\\lim\\limits_{n\\rightarrow \\infty}\\left(\\frac{Y_{\\frac{i+1}{n}}^{(n)}-Y_{\\frac{i}{n}}^{(n)}}{\\frac{1}{n}}\\right) = \\lim\\limits_{n\\rightarrow \\infty}\\left(\\frac{B_{\\frac{i+1}{n}}-B_{\\frac{i}{n}}}{\\frac{1}{n}}\\sigma(Y_{\\frac{i}{n}}^{(n)})+\\frac{\\frac{1}{n}}{\\frac{1}{n}}\\mu(Y_{\\frac{i}{n}}^{(n)})\\right)$"
   ]
  },
  {
   "cell_type": "markdown",
   "metadata": {},
   "source": [
    "$dX_{t}=dB_{t}\\sigma(X_{t})+dt\\mu(X_{t})$\n",
    "\n",
    "$dX_{t}=\\sigma(X_{t})dB_{t}+\\mu(X_{t})dt \\quad\\text{(4)}$\n",
    "\n",
    "The process $\\{X_{t}\\}_{t\\geq0}$ is called a diffusion with drift $\\mu(x)$ and volatility $\\sigma(x)$. "
   ]
  },
  {
   "cell_type": "markdown",
   "metadata": {},
   "source": [
    "Let $a=t_{0} \\leq t_{1} \\leq...\\leq t_{m}=b$, and $\\mathcal{P}=\\{B_{t_{0}}, B_{t_{1}},...,B_{t_{m}}\\}$, then\n",
    "\n",
    "$\\int_{a}^{b}C_{t}dB_{t}=\\lim\\limits_{m \\rightarrow \\infty}\\sum\\limits_{i=1}^{m}C_{t_{i-1}}(B_{t_{i}}-B_{t_{i-1}}) \\quad\\text{(5)}$\n",
    "\n",
    "is a stochastic integral with respect to Brownian motion, and equation 4 can be written as\n",
    "\n",
    "$\\int_{a}^{b}dX_{t}=\\int_{a}^{b}\\sigma(X_{t})dB_{t}+\\int_{a}^{b}\\mu(X_{t})dt$\n",
    "\n",
    "$X_{b}-X_{a}=\\int_{a}^{b}\\sigma(X_{t})dB_{t}+\\int_{a}^{b}\\mu(X_{t})dt \\quad\\text{(6)}$"
   ]
  }
 ],
 "metadata": {
  "kernelspec": {
   "display_name": "Python 3",
   "language": "python",
   "name": "python3"
  },
  "language_info": {
   "codemirror_mode": {
    "name": "ipython",
    "version": 3
   },
   "file_extension": ".py",
   "mimetype": "text/x-python",
   "name": "python",
   "nbconvert_exporter": "python",
   "pygments_lexer": "ipython3",
   "version": "3.8.3"
  }
 },
 "nbformat": 4,
 "nbformat_minor": 4
}
