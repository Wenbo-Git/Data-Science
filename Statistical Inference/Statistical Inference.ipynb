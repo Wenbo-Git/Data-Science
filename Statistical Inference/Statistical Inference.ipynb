{
 "cells": [
  {
   "cell_type": "markdown",
   "metadata": {},
   "source": [
    "Normal Random Variable:\n",
    "$$ x \\sim N(\\mu, \\sigma^{2}) $$\n",
    "<br>\n",
    "Probability Density Function:\n",
    "$$ f(x) = \\frac{1}{\\sigma\\sqrt{2\\pi}} e^{-\\frac{1}{2}(\\frac{x - \\mu}{\\sigma})^{2}} $$\n",
    "Cumulative Distribution Function:\n",
    "$$ F(X) = \\frac{1}{\\sigma\\sqrt{2\\pi}} \\int_{-\\infty}^X e^{-\\frac{1}{2}(\\frac{x - \\mu}{\\sigma})^{2}} dx $$\n",
    "Standard Normal Random Variable:\n",
    "$$ z = \\frac{x - \\mu} {\\sigma} $$\n",
    "<br>\n",
    "$$ E[z] = E[\\frac{x - \\mu} {\\sigma}] = \\frac{1} {\\sigma} * E[x] - \\frac {\\mu} {\\sigma} = \\frac{\\mu} {\\sigma} - \\frac {\\mu} {\\sigma} = 0 $$\n",
    "<br>\n",
    "$$ Var[z] = E[(z - E[z])^{2}] = E[z^2] = E[(\\frac{x - \\mu} {\\sigma})^2] = \\frac{1} {\\sigma^2} E[(x - \\mu)^2] = \\frac{1} {\\sigma^2}Var[x] = \\frac{\\sigma^2} {\\sigma^2} = 1 $$\n",
    "<br>\n",
    "$$ z \\sim N(0, 1) $$\n",
    "<br>\n",
    "$$ f(z) = \\frac{1}{\\sqrt{2\\pi}} e^{-\\frac{z^{2}}{2}} $$\n",
    "<br>\n",
    "$$ F(Z) = \\frac{1}{\\sqrt{2\\pi}} \\int_{-\\infty}^Z e^{-\\frac{z^{2}}{2}} dz $$\n",
    "<br>"
   ]
  }
 ],
 "metadata": {
  "kernelspec": {
   "display_name": "Python 3",
   "language": "python",
   "name": "python3"
  },
  "language_info": {
   "codemirror_mode": {
    "name": "ipython",
    "version": 3
   },
   "file_extension": ".py",
   "mimetype": "text/x-python",
   "name": "python",
   "nbconvert_exporter": "python",
   "pygments_lexer": "ipython3",
   "version": "3.8.3"
  }
 },
 "nbformat": 4,
 "nbformat_minor": 4
}
