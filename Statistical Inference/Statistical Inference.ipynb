{
 "cells": [
  {
   "cell_type": "markdown",
   "metadata": {},
   "source": [
    "Normal Random Variable:\n",
    "$$ x \\sim N(\\mu, \\sigma^{2}) $$\n",
    "<br>\n",
    "Probability Density Function:\n",
    "$$ f(x) = \\frac{1}{\\sigma\\sqrt{2\\pi}} e^{-\\frac{1}{2}(\\frac{x - \\mu}{\\sigma})^{2}} $$\n",
    "Cumulative Distribution Function:\n",
    "$$ F(x) = \\frac{1}{\\sigma\\sqrt{2\\pi}} \\int_{-\\infty}^x e^{-\\frac{1}{2}(\\frac{t - \\mu}{\\sigma})^{2}} dt $$"
   ]
  }
 ],
 "metadata": {
  "kernelspec": {
   "display_name": "Python 3",
   "language": "python",
   "name": "python3"
  },
  "language_info": {
   "codemirror_mode": {
    "name": "ipython",
    "version": 3
   },
   "file_extension": ".py",
   "mimetype": "text/x-python",
   "name": "python",
   "nbconvert_exporter": "python",
   "pygments_lexer": "ipython3",
   "version": "3.8.3"
  }
 },
 "nbformat": 4,
 "nbformat_minor": 4
}
