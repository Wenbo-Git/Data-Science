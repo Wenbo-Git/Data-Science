{
 "cells": [
  {
   "cell_type": "markdown",
   "metadata": {},
   "source": [
    "Moving Average:\n",
    "$$ X_t = \\mu + \\varepsilon_t + \\sum_{i=1}^q \\theta_i \\varepsilon_{t-i} $$"
   ]
  },
  {
   "cell_type": "markdown",
   "metadata": {},
   "source": [
    "Auto-Regressive:\n",
    "$$ X_t = c + \\sum_{i=1}^p \\varphi_i X_{t-i} + \\varepsilon_t $$"
   ]
  },
  {
   "cell_type": "markdown",
   "metadata": {},
   "source": [
    "Auto-Regressive Moving Average:\n",
    "$$ X_t = \\sum_{i=1}^p \\varphi_i X_{t-i} + \\varepsilon_t + \\sum_{i=1}^q \\theta_i \\varepsilon_{t-i} $$"
   ]
  },
  {
   "cell_type": "markdown",
   "metadata": {},
   "source": [
    "Auto-Regressive Integrated Moving Average:\n",
    "<br>\n",
    "<br>\n",
    "From ARMA,\n",
    "$$ X_t - \\sum_{i=1}^{p^{\\prime}} \\varphi_i X_{t-i} = \\varepsilon_t + \\sum_{i=1}^q \\theta_i \\varepsilon_{t-i} $$\n",
    "Let\n",
    "$$ L^{i}X_t = X_{t-i}, i = 1, 2, 3... $$\n",
    "and\n",
    "$$ L^{i}\\varepsilon_t = \\varepsilon_{t-i}, i = 1, 2, 3... $$\n",
    "then\n",
    "$$ X_t - \\sum_{i=1}^{p^{\\prime}} \\varphi_i L^{i}X_t = \\varepsilon_t + \\sum_{i=1}^q \\theta_i L^{i}\\varepsilon_t $$\n",
    "\n",
    "$$ \\left(1 - \\sum_{i=1}^{p^{\\prime}} \\varphi_i L^{i}\\right)X_t = \\left(1 + \\sum_{i=1}^q \\theta_i L^{i}\\right)\\varepsilon_t $$\n",
    "\n",
    "Assume that\n",
    "$$ \\left(1 - \\sum_{i=1}^{p^{\\prime}} \\varphi_i L^{i}\\right) = \\left(1 - \\sum_{i=1}^{p^{\\prime} - d} \\alpha_i L^{i}\\right)(1 - L)^{d} $$\n",
    "\n",
    "then\n",
    "$$ \\left(1 - \\sum_{i=1}^{p} \\alpha_i L^{i}\\right)(1 - L)^{d}X_t = \\left(1 + \\sum_{i=1}^q \\theta_i L^{i}\\right)\\varepsilon_t $$\n",
    "\n",
    "where\n",
    "$$ p = p^{\\prime} - d \\quad (\\text{d integration}) $$"
   ]
  }
 ],
 "metadata": {
  "kernelspec": {
   "display_name": "Python 3",
   "language": "python",
   "name": "python3"
  },
  "language_info": {
   "codemirror_mode": {
    "name": "ipython",
    "version": 3
   },
   "file_extension": ".py",
   "mimetype": "text/x-python",
   "name": "python",
   "nbconvert_exporter": "python",
   "pygments_lexer": "ipython3",
   "version": "3.8.3"
  }
 },
 "nbformat": 4,
 "nbformat_minor": 4
}
